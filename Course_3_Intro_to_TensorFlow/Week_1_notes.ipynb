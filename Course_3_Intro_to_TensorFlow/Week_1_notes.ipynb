{
 "cells": [
  {
   "cell_type": "code",
   "execution_count": 1,
   "metadata": {},
   "outputs": [
    {
     "name": "stderr",
     "output_type": "stream",
     "text": [
      "/Library/Frameworks/Python.framework/Versions/3.6/lib/python3.6/importlib/_bootstrap.py:219: RuntimeWarning: compiletime version 3.5 of module 'tensorflow.python.framework.fast_tensor_util' does not match runtime version 3.6\n",
      "  return f(*args, **kwds)\n"
     ]
    }
   ],
   "source": [
    "import tensorflow as tf\n",
    "import numpy as np"
   ]
  },
  {
   "cell_type": "code",
   "execution_count": 2,
   "metadata": {},
   "outputs": [],
   "source": [
    "def forward_pass(x, w):\n",
    "    return tf.matmul(x, w)\n",
    "\n",
    "def train_loop(x, n_iter = 5):\n",
    "    with tf.variable_scope('model', reuse=tf.AUTO_REUSE): #\n",
    "        w = tf.get_variable('weight',\n",
    "                           shape = (1, 2),\n",
    "                           initializer = tf.truncated_normal_initializer(),\n",
    "                           trainable = True)\n",
    "    preds = []\n",
    "    for k in range(n_iter):\n",
    "        preds.append(forward_pass(w, x))\n",
    "        w = w + 0.1\n",
    "    return preds, w"
   ]
  },
  {
   "cell_type": "code",
   "execution_count": 4,
   "metadata": {},
   "outputs": [
    {
     "name": "stdout",
     "output_type": "stream",
     "text": [
      "#####\n",
      "[array([[3.631627 , 1.542489 , 4.7979503]], dtype=float32), array([[4.3616276, 2.2524893, 5.987951 ]], dtype=float32), array([[5.091627 , 2.9624891, 7.1779504]], dtype=float32), array([[5.821627 , 3.6724892, 8.367951 ]], dtype=float32), array([[6.5516276, 4.382489 , 9.557951 ]], dtype=float32)]\n",
      "[[1.3339667  0.26599735]]\n"
     ]
    }
   ],
   "source": [
    "x = tf.placeholder(dtype=tf.float32, shape=(2, None))\n",
    "\n",
    "with tf.Session() as sess:\n",
    "    preds, w = train_loop(x)\n",
    "    tf.global_variables_initializer().run()\n",
    "    [np_preds, np_w] = sess.run([preds, w], feed_dict={x: [[5.0, 3.0, 7.1],\n",
    "                                                           [2.3, 4.1, 4.8]]})\n",
    "    \n",
    "    print('#####')\n",
    "    '''for item1, item2 in zip(np_preds, np_w):\n",
    "        print(item1, '\\n')\n",
    "        print(item2, '\\n')'''\n",
    "    print(np_preds)\n",
    "    print(np_w)\n",
    "    \n",
    "    "
   ]
  }
 ],
 "metadata": {
  "kernelspec": {
   "display_name": "Python 3",
   "language": "python",
   "name": "python3"
  },
  "language_info": {
   "codemirror_mode": {
    "name": "ipython",
    "version": 3
   },
   "file_extension": ".py",
   "mimetype": "text/x-python",
   "name": "python",
   "nbconvert_exporter": "python",
   "pygments_lexer": "ipython3",
   "version": "3.6.4"
  }
 },
 "nbformat": 4,
 "nbformat_minor": 2
}
